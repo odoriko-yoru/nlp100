{
 "cells": [
  {
   "cell_type": "markdown",
   "id": "4d5cd462-0ddc-48c0-848c-bc46be0af9fd",
   "metadata": {
    "editable": true,
    "id": "4d5cd462-0ddc-48c0-848c-bc46be0af9fd",
    "tags": []
   },
   "source": [
    "# 第4章: 言語解析\n",
    "\n",
    "問題30から問題35までは、以下の文章`text`（太宰治の『走れメロス』の冒頭部分）に対して、言語解析を実施せよ。問題36から問題39までは、国家を説明した文書群（日本語版ウィキペディア記事から抽出したテキスト群）をコーパスとして、言語解析を実施せよ。"
   ]
  },
  {
   "cell_type": "code",
   "execution_count": 1,
   "id": "7e6766b0-630b-4b78-8312-27e6f8104e7b",
   "metadata": {
    "editable": true,
    "id": "7e6766b0-630b-4b78-8312-27e6f8104e7b",
    "tags": []
   },
   "outputs": [],
   "source": [
    "text = \"\"\"\n",
    "メロスは激怒した。\n",
    "必ず、かの邪智暴虐の王を除かなければならぬと決意した。\n",
    "メロスには政治がわからぬ。\n",
    "メロスは、村の牧人である。\n",
    "笛を吹き、羊と遊んで暮して来た。\n",
    "けれども邪悪に対しては、人一倍に敏感であった。\n",
    "\"\"\""
   ]
  },
  {
   "cell_type": "markdown",
   "id": "80e3790d-077d-453a-b981-964f609fc4be",
   "metadata": {
    "id": "80e3790d-077d-453a-b981-964f609fc4be"
   },
   "source": [
    "## 30. 動詞\n",
    "文章`text`に含まれる動詞をすべて表示せよ。"
   ]
  },
  {
   "cell_type": "markdown",
   "id": "5fd1d613-8375-4837-b534-a01451eddf98",
   "metadata": {
    "id": "5fd1d613-8375-4837-b534-a01451eddf98"
   },
   "source": [
    "## 31. 動詞の原型\n",
    "文章`text`に含まれる動詞と、その原型をすべて表示せよ。"
   ]
  },
  {
   "cell_type": "markdown",
   "id": "34558343-a286-429b-b3ee-b1e6b3ca4561",
   "metadata": {
    "id": "34558343-a286-429b-b3ee-b1e6b3ca4561"
   },
   "source": [
    "## 32. 「AのB」\n",
    "文章`text`において、2つの名詞が「の」で連結されている名詞句をすべて抽出せよ。"
   ]
  },
  {
   "cell_type": "markdown",
   "id": "7cac9c74-cd83-42d3-8cde-a4a0f4200094",
   "metadata": {
    "id": "7cac9c74-cd83-42d3-8cde-a4a0f4200094"
   },
   "source": [
    "## 33. 係り受け解析\n",
    "\n",
    "文章`text`に係り受け解析を適用し、係り元と係り先のトークン（形態素や文節などの単位）をタブ区切り形式ですべて抽出せよ。"
   ]
  },
  {
   "cell_type": "markdown",
   "id": "eb49b4d2-9869-4f43-9cd8-9e79e0c1b40f",
   "metadata": {
    "id": "eb49b4d2-9869-4f43-9cd8-9e79e0c1b40f"
   },
   "source": [
    "## 34. 主述の関係\n",
    "文章`text`において、「メロス」が主語であるときの述語を抽出せよ。"
   ]
  },
  {
   "cell_type": "markdown",
   "id": "ec8ba153-85e7-4cbe-bcc0-bb659409d494",
   "metadata": {
    "id": "ec8ba153-85e7-4cbe-bcc0-bb659409d494"
   },
   "source": [
    "## 35. 係り受け木\n",
    "「メロスは激怒した。」の係り受け木を可視化せよ。"
   ]
  },
  {
   "cell_type": "markdown",
   "id": "b880d760-ea6c-4722-9a65-5b97a02ed192",
   "metadata": {
    "id": "b880d760-ea6c-4722-9a65-5b97a02ed192"
   },
   "source": [
    "## 36. 単語の出現頻度\n",
    "\n",
    "問題36から39までは、Wikipediaの記事を以下のフォーマットで書き出したファイル[jawiki-country.json.gz](/data/jawiki-country.json.gz)をコーパスと見なし、統計的な分析を行う。\n",
    "\n",
    "* 1行に1記事の情報がJSON形式で格納される\n",
    "* 各行には記事名が\"title\"キーに、記事本文が\"text\"キーの辞書オブジェクトに格納され、そのオブジェクトがJSON形式で書き出される\n",
    "* ファイル全体はgzipで圧縮される\n",
    "\n",
    "まず、第3章の処理内容を参考に、Wikipedia記事からマークアップを除去し、各記事のテキストを抽出せよ。そして、コーパスにおける単語（形態素）の出現頻度を求め、出現頻度の高い20語とその出現頻度を表示せよ。"
   ]
  },
  {
   "cell_type": "markdown",
   "id": "e38bd27c-0644-4468-8b4d-99318b91c0cb",
   "metadata": {
    "id": "e38bd27c-0644-4468-8b4d-99318b91c0cb"
   },
   "source": [
    "## 37. 名詞の出現頻度\n",
    "コーパスにおける名詞の出現頻度を求め、出現頻度の高い20語とその出現頻度を表示せよ。"
   ]
  },
  {
   "cell_type": "markdown",
   "id": "8a64fda0-5ee3-48ad-9071-f37f805951d3",
   "metadata": {
    "id": "8a64fda0-5ee3-48ad-9071-f37f805951d3"
   },
   "source": [
    "## 38. TF・IDF\n",
    "日本に関する記事における名詞のTF・IDFスコアを求め、TF・IDFスコア上位20語とそのTF, IDF, TF・IDFを表示せよ。"
   ]
  },
  {
   "cell_type": "markdown",
   "id": "5f3b60e9-5d8e-4c2e-a68d-385c91713113",
   "metadata": {
    "id": "5f3b60e9-5d8e-4c2e-a68d-385c91713113"
   },
   "source": [
    "## 39. Zipfの法則\n",
    "コーパスにおける単語の出現頻度順位を横軸、その出現頻度を縦軸として、両対数グラフをプロットせよ。"
   ]
  }
 ],
 "metadata": {
  "colab": {
   "provenance": []
  },
  "kernelspec": {
   "display_name": "Python 3 (ipykernel)",
   "language": "python",
   "name": "python3"
  },
  "language_info": {
   "codemirror_mode": {
    "name": "ipython",
    "version": 3
   },
   "file_extension": ".py",
   "mimetype": "text/x-python",
   "name": "python",
   "nbconvert_exporter": "python",
   "pygments_lexer": "ipython3",
   "version": "3.12.3"
  }
 },
 "nbformat": 4,
 "nbformat_minor": 5
}
